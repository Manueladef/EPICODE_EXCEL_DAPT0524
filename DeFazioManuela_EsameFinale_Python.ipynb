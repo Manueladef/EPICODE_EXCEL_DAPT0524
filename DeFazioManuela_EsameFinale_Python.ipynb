{
 "cells": [
  {
   "cell_type": "code",
   "execution_count": 1,
   "id": "fcb93962-c40f-4181-82f5-2556dbc00247",
   "metadata": {},
   "outputs": [],
   "source": [
    "import pandas as pd"
   ]
  },
  {
   "cell_type": "code",
   "execution_count": 2,
   "id": "a7ba07a7-eed1-48cc-b2d5-8f8b498587aa",
   "metadata": {},
   "outputs": [],
   "source": [
    "covid_df = pd.read_csv('owid-covid-data.csv')"
   ]
  },
  {
   "cell_type": "markdown",
   "id": "9d347411-6e81-4775-809c-392c90fb3b4a",
   "metadata": {},
   "source": [
    "## Esercizio 1"
   ]
  },
  {
   "cell_type": "code",
   "execution_count": 4,
   "id": "b9e47eec-f368-4270-9662-0587d9b1d19c",
   "metadata": {},
   "outputs": [
    {
     "name": "stdout",
     "output_type": "stream",
     "text": [
      "Il dataframe conta 429435 righe e 67 colonne\n"
     ]
    }
   ],
   "source": [
    "#grandezza del dataset\n",
    "\n",
    "shape_df = covid_df.shape\n",
    "print(f\"Il dataframe conta {shape_df[0]} righe e {shape_df[1]} colonne\")"
   ]
  },
  {
   "cell_type": "code",
   "execution_count": 5,
   "id": "c5b93399-48f7-41c4-b47d-cee45edd4592",
   "metadata": {},
   "outputs": [
    {
     "data": {
      "text/html": [
       "<div>\n",
       "<style scoped>\n",
       "    .dataframe tbody tr th:only-of-type {\n",
       "        vertical-align: middle;\n",
       "    }\n",
       "\n",
       "    .dataframe tbody tr th {\n",
       "        vertical-align: top;\n",
       "    }\n",
       "\n",
       "    .dataframe thead th {\n",
       "        text-align: right;\n",
       "    }\n",
       "</style>\n",
       "<table border=\"1\" class=\"dataframe\">\n",
       "  <thead>\n",
       "    <tr style=\"text-align: right;\">\n",
       "      <th></th>\n",
       "      <th>iso_code</th>\n",
       "      <th>continent</th>\n",
       "      <th>location</th>\n",
       "      <th>date</th>\n",
       "      <th>total_cases</th>\n",
       "      <th>new_cases</th>\n",
       "      <th>new_cases_smoothed</th>\n",
       "      <th>total_deaths</th>\n",
       "      <th>new_deaths</th>\n",
       "      <th>new_deaths_smoothed</th>\n",
       "      <th>...</th>\n",
       "      <th>male_smokers</th>\n",
       "      <th>handwashing_facilities</th>\n",
       "      <th>hospital_beds_per_thousand</th>\n",
       "      <th>life_expectancy</th>\n",
       "      <th>human_development_index</th>\n",
       "      <th>population</th>\n",
       "      <th>excess_mortality_cumulative_absolute</th>\n",
       "      <th>excess_mortality_cumulative</th>\n",
       "      <th>excess_mortality</th>\n",
       "      <th>excess_mortality_cumulative_per_million</th>\n",
       "    </tr>\n",
       "  </thead>\n",
       "  <tbody>\n",
       "    <tr>\n",
       "      <th>0</th>\n",
       "      <td>AFG</td>\n",
       "      <td>Asia</td>\n",
       "      <td>Afghanistan</td>\n",
       "      <td>2020-01-05</td>\n",
       "      <td>0.0</td>\n",
       "      <td>0.0</td>\n",
       "      <td>NaN</td>\n",
       "      <td>0.0</td>\n",
       "      <td>0.0</td>\n",
       "      <td>NaN</td>\n",
       "      <td>...</td>\n",
       "      <td>NaN</td>\n",
       "      <td>37.746</td>\n",
       "      <td>0.5</td>\n",
       "      <td>64.83</td>\n",
       "      <td>0.511</td>\n",
       "      <td>41128772</td>\n",
       "      <td>NaN</td>\n",
       "      <td>NaN</td>\n",
       "      <td>NaN</td>\n",
       "      <td>NaN</td>\n",
       "    </tr>\n",
       "    <tr>\n",
       "      <th>1</th>\n",
       "      <td>AFG</td>\n",
       "      <td>Asia</td>\n",
       "      <td>Afghanistan</td>\n",
       "      <td>2020-01-06</td>\n",
       "      <td>0.0</td>\n",
       "      <td>0.0</td>\n",
       "      <td>NaN</td>\n",
       "      <td>0.0</td>\n",
       "      <td>0.0</td>\n",
       "      <td>NaN</td>\n",
       "      <td>...</td>\n",
       "      <td>NaN</td>\n",
       "      <td>37.746</td>\n",
       "      <td>0.5</td>\n",
       "      <td>64.83</td>\n",
       "      <td>0.511</td>\n",
       "      <td>41128772</td>\n",
       "      <td>NaN</td>\n",
       "      <td>NaN</td>\n",
       "      <td>NaN</td>\n",
       "      <td>NaN</td>\n",
       "    </tr>\n",
       "    <tr>\n",
       "      <th>2</th>\n",
       "      <td>AFG</td>\n",
       "      <td>Asia</td>\n",
       "      <td>Afghanistan</td>\n",
       "      <td>2020-01-07</td>\n",
       "      <td>0.0</td>\n",
       "      <td>0.0</td>\n",
       "      <td>NaN</td>\n",
       "      <td>0.0</td>\n",
       "      <td>0.0</td>\n",
       "      <td>NaN</td>\n",
       "      <td>...</td>\n",
       "      <td>NaN</td>\n",
       "      <td>37.746</td>\n",
       "      <td>0.5</td>\n",
       "      <td>64.83</td>\n",
       "      <td>0.511</td>\n",
       "      <td>41128772</td>\n",
       "      <td>NaN</td>\n",
       "      <td>NaN</td>\n",
       "      <td>NaN</td>\n",
       "      <td>NaN</td>\n",
       "    </tr>\n",
       "    <tr>\n",
       "      <th>3</th>\n",
       "      <td>AFG</td>\n",
       "      <td>Asia</td>\n",
       "      <td>Afghanistan</td>\n",
       "      <td>2020-01-08</td>\n",
       "      <td>0.0</td>\n",
       "      <td>0.0</td>\n",
       "      <td>NaN</td>\n",
       "      <td>0.0</td>\n",
       "      <td>0.0</td>\n",
       "      <td>NaN</td>\n",
       "      <td>...</td>\n",
       "      <td>NaN</td>\n",
       "      <td>37.746</td>\n",
       "      <td>0.5</td>\n",
       "      <td>64.83</td>\n",
       "      <td>0.511</td>\n",
       "      <td>41128772</td>\n",
       "      <td>NaN</td>\n",
       "      <td>NaN</td>\n",
       "      <td>NaN</td>\n",
       "      <td>NaN</td>\n",
       "    </tr>\n",
       "    <tr>\n",
       "      <th>4</th>\n",
       "      <td>AFG</td>\n",
       "      <td>Asia</td>\n",
       "      <td>Afghanistan</td>\n",
       "      <td>2020-01-09</td>\n",
       "      <td>0.0</td>\n",
       "      <td>0.0</td>\n",
       "      <td>NaN</td>\n",
       "      <td>0.0</td>\n",
       "      <td>0.0</td>\n",
       "      <td>NaN</td>\n",
       "      <td>...</td>\n",
       "      <td>NaN</td>\n",
       "      <td>37.746</td>\n",
       "      <td>0.5</td>\n",
       "      <td>64.83</td>\n",
       "      <td>0.511</td>\n",
       "      <td>41128772</td>\n",
       "      <td>NaN</td>\n",
       "      <td>NaN</td>\n",
       "      <td>NaN</td>\n",
       "      <td>NaN</td>\n",
       "    </tr>\n",
       "  </tbody>\n",
       "</table>\n",
       "<p>5 rows × 67 columns</p>\n",
       "</div>"
      ],
      "text/plain": [
       "  iso_code continent     location        date  total_cases  new_cases  \\\n",
       "0      AFG      Asia  Afghanistan  2020-01-05          0.0        0.0   \n",
       "1      AFG      Asia  Afghanistan  2020-01-06          0.0        0.0   \n",
       "2      AFG      Asia  Afghanistan  2020-01-07          0.0        0.0   \n",
       "3      AFG      Asia  Afghanistan  2020-01-08          0.0        0.0   \n",
       "4      AFG      Asia  Afghanistan  2020-01-09          0.0        0.0   \n",
       "\n",
       "   new_cases_smoothed  total_deaths  new_deaths  new_deaths_smoothed  ...  \\\n",
       "0                 NaN           0.0         0.0                  NaN  ...   \n",
       "1                 NaN           0.0         0.0                  NaN  ...   \n",
       "2                 NaN           0.0         0.0                  NaN  ...   \n",
       "3                 NaN           0.0         0.0                  NaN  ...   \n",
       "4                 NaN           0.0         0.0                  NaN  ...   \n",
       "\n",
       "   male_smokers  handwashing_facilities  hospital_beds_per_thousand  \\\n",
       "0           NaN                  37.746                         0.5   \n",
       "1           NaN                  37.746                         0.5   \n",
       "2           NaN                  37.746                         0.5   \n",
       "3           NaN                  37.746                         0.5   \n",
       "4           NaN                  37.746                         0.5   \n",
       "\n",
       "   life_expectancy  human_development_index  population  \\\n",
       "0            64.83                    0.511    41128772   \n",
       "1            64.83                    0.511    41128772   \n",
       "2            64.83                    0.511    41128772   \n",
       "3            64.83                    0.511    41128772   \n",
       "4            64.83                    0.511    41128772   \n",
       "\n",
       "   excess_mortality_cumulative_absolute  excess_mortality_cumulative  \\\n",
       "0                                   NaN                          NaN   \n",
       "1                                   NaN                          NaN   \n",
       "2                                   NaN                          NaN   \n",
       "3                                   NaN                          NaN   \n",
       "4                                   NaN                          NaN   \n",
       "\n",
       "   excess_mortality  excess_mortality_cumulative_per_million  \n",
       "0               NaN                                      NaN  \n",
       "1               NaN                                      NaN  \n",
       "2               NaN                                      NaN  \n",
       "3               NaN                                      NaN  \n",
       "4               NaN                                      NaN  \n",
       "\n",
       "[5 rows x 67 columns]"
      ]
     },
     "execution_count": 5,
     "metadata": {},
     "output_type": "execute_result"
    }
   ],
   "source": [
    "#overview df\n",
    "\n",
    "covid_df.head()"
   ]
  },
  {
   "cell_type": "code",
   "execution_count": 6,
   "id": "ee5e7e29-974d-4b29-a104-982b1415b845",
   "metadata": {},
   "outputs": [
    {
     "name": "stdout",
     "output_type": "stream",
     "text": [
      "<class 'pandas.core.frame.DataFrame'>\n",
      "RangeIndex: 429435 entries, 0 to 429434\n",
      "Data columns (total 67 columns):\n",
      " #   Column                                      Non-Null Count   Dtype  \n",
      "---  ------                                      --------------   -----  \n",
      " 0   iso_code                                    429435 non-null  object \n",
      " 1   continent                                   402910 non-null  object \n",
      " 2   location                                    429435 non-null  object \n",
      " 3   date                                        429435 non-null  object \n",
      " 4   total_cases                                 411804 non-null  float64\n",
      " 5   new_cases                                   410159 non-null  float64\n",
      " 6   new_cases_smoothed                          408929 non-null  float64\n",
      " 7   total_deaths                                411804 non-null  float64\n",
      " 8   new_deaths                                  410608 non-null  float64\n",
      " 9   new_deaths_smoothed                         409378 non-null  float64\n",
      " 10  total_cases_per_million                     411804 non-null  float64\n",
      " 11  new_cases_per_million                       410159 non-null  float64\n",
      " 12  new_cases_smoothed_per_million              408929 non-null  float64\n",
      " 13  total_deaths_per_million                    411804 non-null  float64\n",
      " 14  new_deaths_per_million                      410608 non-null  float64\n",
      " 15  new_deaths_smoothed_per_million             409378 non-null  float64\n",
      " 16  reproduction_rate                           184817 non-null  float64\n",
      " 17  icu_patients                                39116 non-null   float64\n",
      " 18  icu_patients_per_million                    39116 non-null   float64\n",
      " 19  hosp_patients                               40656 non-null   float64\n",
      " 20  hosp_patients_per_million                   40656 non-null   float64\n",
      " 21  weekly_icu_admissions                       10993 non-null   float64\n",
      " 22  weekly_icu_admissions_per_million           10993 non-null   float64\n",
      " 23  weekly_hosp_admissions                      24497 non-null   float64\n",
      " 24  weekly_hosp_admissions_per_million          24497 non-null   float64\n",
      " 25  total_tests                                 79387 non-null   float64\n",
      " 26  new_tests                                   75403 non-null   float64\n",
      " 27  total_tests_per_thousand                    79387 non-null   float64\n",
      " 28  new_tests_per_thousand                      75403 non-null   float64\n",
      " 29  new_tests_smoothed                          103965 non-null  float64\n",
      " 30  new_tests_smoothed_per_thousand             103965 non-null  float64\n",
      " 31  positive_rate                               95927 non-null   float64\n",
      " 32  tests_per_case                              94348 non-null   float64\n",
      " 33  tests_units                                 106788 non-null  object \n",
      " 34  total_vaccinations                          85417 non-null   float64\n",
      " 35  people_vaccinated                           81132 non-null   float64\n",
      " 36  people_fully_vaccinated                     78061 non-null   float64\n",
      " 37  total_boosters                              53600 non-null   float64\n",
      " 38  new_vaccinations                            70971 non-null   float64\n",
      " 39  new_vaccinations_smoothed                   195029 non-null  float64\n",
      " 40  total_vaccinations_per_hundred              85417 non-null   float64\n",
      " 41  people_vaccinated_per_hundred               81132 non-null   float64\n",
      " 42  people_fully_vaccinated_per_hundred         78061 non-null   float64\n",
      " 43  total_boosters_per_hundred                  53600 non-null   float64\n",
      " 44  new_vaccinations_smoothed_per_million       195029 non-null  float64\n",
      " 45  new_people_vaccinated_smoothed              192177 non-null  float64\n",
      " 46  new_people_vaccinated_smoothed_per_hundred  192177 non-null  float64\n",
      " 47  stringency_index                            196190 non-null  float64\n",
      " 48  population_density                          360492 non-null  float64\n",
      " 49  median_age                                  334663 non-null  float64\n",
      " 50  aged_65_older                               323270 non-null  float64\n",
      " 51  aged_70_older                               331315 non-null  float64\n",
      " 52  gdp_per_capita                              328292 non-null  float64\n",
      " 53  extreme_poverty                             211996 non-null  float64\n",
      " 54  cardiovasc_death_rate                       328865 non-null  float64\n",
      " 55  diabetes_prevalence                         345911 non-null  float64\n",
      " 56  female_smokers                              247165 non-null  float64\n",
      " 57  male_smokers                                243817 non-null  float64\n",
      " 58  handwashing_facilities                      161741 non-null  float64\n",
      " 59  hospital_beds_per_thousand                  290689 non-null  float64\n",
      " 60  life_expectancy                             390299 non-null  float64\n",
      " 61  human_development_index                     319127 non-null  float64\n",
      " 62  population                                  429435 non-null  int64  \n",
      " 63  excess_mortality_cumulative_absolute        13411 non-null   float64\n",
      " 64  excess_mortality_cumulative                 13411 non-null   float64\n",
      " 65  excess_mortality                            13411 non-null   float64\n",
      " 66  excess_mortality_cumulative_per_million     13411 non-null   float64\n",
      "dtypes: float64(61), int64(1), object(5)\n",
      "memory usage: 219.5+ MB\n"
     ]
    }
   ],
   "source": [
    "#overview df1\n",
    "\n",
    "covid_df.info()"
   ]
  },
  {
   "cell_type": "code",
   "execution_count": 7,
   "id": "7cf57d07-f34f-40b3-ac2a-c11f0dcf5a29",
   "metadata": {},
   "outputs": [
    {
     "data": {
      "text/html": [
       "<div>\n",
       "<style scoped>\n",
       "    .dataframe tbody tr th:only-of-type {\n",
       "        vertical-align: middle;\n",
       "    }\n",
       "\n",
       "    .dataframe tbody tr th {\n",
       "        vertical-align: top;\n",
       "    }\n",
       "\n",
       "    .dataframe thead th {\n",
       "        text-align: right;\n",
       "    }\n",
       "</style>\n",
       "<table border=\"1\" class=\"dataframe\">\n",
       "  <thead>\n",
       "    <tr style=\"text-align: right;\">\n",
       "      <th></th>\n",
       "      <th>iso_code</th>\n",
       "      <th>continent</th>\n",
       "      <th>location</th>\n",
       "      <th>date</th>\n",
       "      <th>total_cases</th>\n",
       "      <th>new_cases</th>\n",
       "      <th>new_cases_smoothed</th>\n",
       "      <th>total_deaths</th>\n",
       "      <th>new_deaths</th>\n",
       "      <th>new_deaths_smoothed</th>\n",
       "      <th>...</th>\n",
       "      <th>male_smokers</th>\n",
       "      <th>handwashing_facilities</th>\n",
       "      <th>hospital_beds_per_thousand</th>\n",
       "      <th>life_expectancy</th>\n",
       "      <th>human_development_index</th>\n",
       "      <th>population</th>\n",
       "      <th>excess_mortality_cumulative_absolute</th>\n",
       "      <th>excess_mortality_cumulative</th>\n",
       "      <th>excess_mortality</th>\n",
       "      <th>excess_mortality_cumulative_per_million</th>\n",
       "    </tr>\n",
       "  </thead>\n",
       "  <tbody>\n",
       "    <tr>\n",
       "      <th>176991</th>\n",
       "      <td>IRN</td>\n",
       "      <td>Asia</td>\n",
       "      <td>Iran</td>\n",
       "      <td>2020-03-31</td>\n",
       "      <td>35408.0</td>\n",
       "      <td>0.0</td>\n",
       "      <td>2114.000</td>\n",
       "      <td>2517.0</td>\n",
       "      <td>0.0</td>\n",
       "      <td>137.286</td>\n",
       "      <td>...</td>\n",
       "      <td>21.1</td>\n",
       "      <td>NaN</td>\n",
       "      <td>1.50</td>\n",
       "      <td>76.68</td>\n",
       "      <td>0.783</td>\n",
       "      <td>88550568</td>\n",
       "      <td>NaN</td>\n",
       "      <td>NaN</td>\n",
       "      <td>NaN</td>\n",
       "      <td>NaN</td>\n",
       "    </tr>\n",
       "    <tr>\n",
       "      <th>226861</th>\n",
       "      <td>MDG</td>\n",
       "      <td>Africa</td>\n",
       "      <td>Madagascar</td>\n",
       "      <td>2024-05-14</td>\n",
       "      <td>68530.0</td>\n",
       "      <td>0.0</td>\n",
       "      <td>0.714</td>\n",
       "      <td>1427.0</td>\n",
       "      <td>0.0</td>\n",
       "      <td>0.000</td>\n",
       "      <td>...</td>\n",
       "      <td>NaN</td>\n",
       "      <td>50.540</td>\n",
       "      <td>0.20</td>\n",
       "      <td>67.04</td>\n",
       "      <td>0.528</td>\n",
       "      <td>29611718</td>\n",
       "      <td>NaN</td>\n",
       "      <td>NaN</td>\n",
       "      <td>NaN</td>\n",
       "      <td>NaN</td>\n",
       "    </tr>\n",
       "    <tr>\n",
       "      <th>291172</th>\n",
       "      <td>PAK</td>\n",
       "      <td>Asia</td>\n",
       "      <td>Pakistan</td>\n",
       "      <td>2020-07-22</td>\n",
       "      <td>261917.0</td>\n",
       "      <td>0.0</td>\n",
       "      <td>2223.714</td>\n",
       "      <td>5522.0</td>\n",
       "      <td>0.0</td>\n",
       "      <td>57.000</td>\n",
       "      <td>...</td>\n",
       "      <td>36.7</td>\n",
       "      <td>59.607</td>\n",
       "      <td>0.60</td>\n",
       "      <td>67.27</td>\n",
       "      <td>0.557</td>\n",
       "      <td>235824864</td>\n",
       "      <td>NaN</td>\n",
       "      <td>NaN</td>\n",
       "      <td>NaN</td>\n",
       "      <td>NaN</td>\n",
       "    </tr>\n",
       "    <tr>\n",
       "      <th>125540</th>\n",
       "      <td>FRO</td>\n",
       "      <td>Europe</td>\n",
       "      <td>Faroe Islands</td>\n",
       "      <td>2020-07-18</td>\n",
       "      <td>188.0</td>\n",
       "      <td>0.0</td>\n",
       "      <td>0.143</td>\n",
       "      <td>0.0</td>\n",
       "      <td>0.0</td>\n",
       "      <td>0.000</td>\n",
       "      <td>...</td>\n",
       "      <td>NaN</td>\n",
       "      <td>NaN</td>\n",
       "      <td>NaN</td>\n",
       "      <td>80.67</td>\n",
       "      <td>NaN</td>\n",
       "      <td>53117</td>\n",
       "      <td>NaN</td>\n",
       "      <td>NaN</td>\n",
       "      <td>NaN</td>\n",
       "      <td>NaN</td>\n",
       "    </tr>\n",
       "    <tr>\n",
       "      <th>405854</th>\n",
       "      <td>VIR</td>\n",
       "      <td>North America</td>\n",
       "      <td>United States Virgin Islands</td>\n",
       "      <td>2022-01-03</td>\n",
       "      <td>10106.0</td>\n",
       "      <td>0.0</td>\n",
       "      <td>299.857</td>\n",
       "      <td>89.0</td>\n",
       "      <td>0.0</td>\n",
       "      <td>0.143</td>\n",
       "      <td>...</td>\n",
       "      <td>NaN</td>\n",
       "      <td>NaN</td>\n",
       "      <td>NaN</td>\n",
       "      <td>80.58</td>\n",
       "      <td>NaN</td>\n",
       "      <td>99479</td>\n",
       "      <td>NaN</td>\n",
       "      <td>NaN</td>\n",
       "      <td>NaN</td>\n",
       "      <td>NaN</td>\n",
       "    </tr>\n",
       "    <tr>\n",
       "      <th>4250</th>\n",
       "      <td>ALB</td>\n",
       "      <td>Europe</td>\n",
       "      <td>Albania</td>\n",
       "      <td>2022-06-25</td>\n",
       "      <td>277026.0</td>\n",
       "      <td>0.0</td>\n",
       "      <td>63.286</td>\n",
       "      <td>3497.0</td>\n",
       "      <td>0.0</td>\n",
       "      <td>0.000</td>\n",
       "      <td>...</td>\n",
       "      <td>51.2</td>\n",
       "      <td>NaN</td>\n",
       "      <td>2.89</td>\n",
       "      <td>78.57</td>\n",
       "      <td>0.795</td>\n",
       "      <td>2842318</td>\n",
       "      <td>NaN</td>\n",
       "      <td>NaN</td>\n",
       "      <td>NaN</td>\n",
       "      <td>NaN</td>\n",
       "    </tr>\n",
       "    <tr>\n",
       "      <th>414682</th>\n",
       "      <td>VUT</td>\n",
       "      <td>Oceania</td>\n",
       "      <td>Vanuatu</td>\n",
       "      <td>2024-03-06</td>\n",
       "      <td>12019.0</td>\n",
       "      <td>0.0</td>\n",
       "      <td>0.000</td>\n",
       "      <td>14.0</td>\n",
       "      <td>0.0</td>\n",
       "      <td>0.000</td>\n",
       "      <td>...</td>\n",
       "      <td>34.5</td>\n",
       "      <td>25.209</td>\n",
       "      <td>NaN</td>\n",
       "      <td>70.47</td>\n",
       "      <td>0.609</td>\n",
       "      <td>326744</td>\n",
       "      <td>NaN</td>\n",
       "      <td>NaN</td>\n",
       "      <td>NaN</td>\n",
       "      <td>NaN</td>\n",
       "    </tr>\n",
       "    <tr>\n",
       "      <th>154015</th>\n",
       "      <td>GTM</td>\n",
       "      <td>North America</td>\n",
       "      <td>Guatemala</td>\n",
       "      <td>2020-08-04</td>\n",
       "      <td>50979.0</td>\n",
       "      <td>0.0</td>\n",
       "      <td>926.714</td>\n",
       "      <td>1957.0</td>\n",
       "      <td>0.0</td>\n",
       "      <td>36.857</td>\n",
       "      <td>...</td>\n",
       "      <td>NaN</td>\n",
       "      <td>76.665</td>\n",
       "      <td>0.60</td>\n",
       "      <td>74.30</td>\n",
       "      <td>0.663</td>\n",
       "      <td>17843914</td>\n",
       "      <td>NaN</td>\n",
       "      <td>NaN</td>\n",
       "      <td>NaN</td>\n",
       "      <td>NaN</td>\n",
       "    </tr>\n",
       "    <tr>\n",
       "      <th>381755</th>\n",
       "      <td>TGO</td>\n",
       "      <td>Africa</td>\n",
       "      <td>Togo</td>\n",
       "      <td>2020-03-11</td>\n",
       "      <td>1.0</td>\n",
       "      <td>0.0</td>\n",
       "      <td>0.143</td>\n",
       "      <td>0.0</td>\n",
       "      <td>0.0</td>\n",
       "      <td>0.000</td>\n",
       "      <td>...</td>\n",
       "      <td>14.2</td>\n",
       "      <td>10.475</td>\n",
       "      <td>0.70</td>\n",
       "      <td>61.04</td>\n",
       "      <td>0.515</td>\n",
       "      <td>8848700</td>\n",
       "      <td>NaN</td>\n",
       "      <td>NaN</td>\n",
       "      <td>NaN</td>\n",
       "      <td>NaN</td>\n",
       "    </tr>\n",
       "    <tr>\n",
       "      <th>201694</th>\n",
       "      <td>KWT</td>\n",
       "      <td>Asia</td>\n",
       "      <td>Kuwait</td>\n",
       "      <td>2023-09-16</td>\n",
       "      <td>666206.0</td>\n",
       "      <td>0.0</td>\n",
       "      <td>7.571</td>\n",
       "      <td>2570.0</td>\n",
       "      <td>0.0</td>\n",
       "      <td>0.000</td>\n",
       "      <td>...</td>\n",
       "      <td>37.0</td>\n",
       "      <td>NaN</td>\n",
       "      <td>2.00</td>\n",
       "      <td>75.49</td>\n",
       "      <td>0.806</td>\n",
       "      <td>4268886</td>\n",
       "      <td>NaN</td>\n",
       "      <td>NaN</td>\n",
       "      <td>NaN</td>\n",
       "      <td>NaN</td>\n",
       "    </tr>\n",
       "  </tbody>\n",
       "</table>\n",
       "<p>10 rows × 67 columns</p>\n",
       "</div>"
      ],
      "text/plain": [
       "       iso_code      continent                      location        date  \\\n",
       "176991      IRN           Asia                          Iran  2020-03-31   \n",
       "226861      MDG         Africa                    Madagascar  2024-05-14   \n",
       "291172      PAK           Asia                      Pakistan  2020-07-22   \n",
       "125540      FRO         Europe                 Faroe Islands  2020-07-18   \n",
       "405854      VIR  North America  United States Virgin Islands  2022-01-03   \n",
       "4250        ALB         Europe                       Albania  2022-06-25   \n",
       "414682      VUT        Oceania                       Vanuatu  2024-03-06   \n",
       "154015      GTM  North America                     Guatemala  2020-08-04   \n",
       "381755      TGO         Africa                          Togo  2020-03-11   \n",
       "201694      KWT           Asia                        Kuwait  2023-09-16   \n",
       "\n",
       "        total_cases  new_cases  new_cases_smoothed  total_deaths  new_deaths  \\\n",
       "176991      35408.0        0.0            2114.000        2517.0         0.0   \n",
       "226861      68530.0        0.0               0.714        1427.0         0.0   \n",
       "291172     261917.0        0.0            2223.714        5522.0         0.0   \n",
       "125540        188.0        0.0               0.143           0.0         0.0   \n",
       "405854      10106.0        0.0             299.857          89.0         0.0   \n",
       "4250       277026.0        0.0              63.286        3497.0         0.0   \n",
       "414682      12019.0        0.0               0.000          14.0         0.0   \n",
       "154015      50979.0        0.0             926.714        1957.0         0.0   \n",
       "381755          1.0        0.0               0.143           0.0         0.0   \n",
       "201694     666206.0        0.0               7.571        2570.0         0.0   \n",
       "\n",
       "        new_deaths_smoothed  ...  male_smokers  handwashing_facilities  \\\n",
       "176991              137.286  ...          21.1                     NaN   \n",
       "226861                0.000  ...           NaN                  50.540   \n",
       "291172               57.000  ...          36.7                  59.607   \n",
       "125540                0.000  ...           NaN                     NaN   \n",
       "405854                0.143  ...           NaN                     NaN   \n",
       "4250                  0.000  ...          51.2                     NaN   \n",
       "414682                0.000  ...          34.5                  25.209   \n",
       "154015               36.857  ...           NaN                  76.665   \n",
       "381755                0.000  ...          14.2                  10.475   \n",
       "201694                0.000  ...          37.0                     NaN   \n",
       "\n",
       "        hospital_beds_per_thousand  life_expectancy  human_development_index  \\\n",
       "176991                        1.50            76.68                    0.783   \n",
       "226861                        0.20            67.04                    0.528   \n",
       "291172                        0.60            67.27                    0.557   \n",
       "125540                         NaN            80.67                      NaN   \n",
       "405854                         NaN            80.58                      NaN   \n",
       "4250                          2.89            78.57                    0.795   \n",
       "414682                         NaN            70.47                    0.609   \n",
       "154015                        0.60            74.30                    0.663   \n",
       "381755                        0.70            61.04                    0.515   \n",
       "201694                        2.00            75.49                    0.806   \n",
       "\n",
       "        population  excess_mortality_cumulative_absolute  \\\n",
       "176991    88550568                                   NaN   \n",
       "226861    29611718                                   NaN   \n",
       "291172   235824864                                   NaN   \n",
       "125540       53117                                   NaN   \n",
       "405854       99479                                   NaN   \n",
       "4250       2842318                                   NaN   \n",
       "414682      326744                                   NaN   \n",
       "154015    17843914                                   NaN   \n",
       "381755     8848700                                   NaN   \n",
       "201694     4268886                                   NaN   \n",
       "\n",
       "        excess_mortality_cumulative  excess_mortality  \\\n",
       "176991                          NaN               NaN   \n",
       "226861                          NaN               NaN   \n",
       "291172                          NaN               NaN   \n",
       "125540                          NaN               NaN   \n",
       "405854                          NaN               NaN   \n",
       "4250                            NaN               NaN   \n",
       "414682                          NaN               NaN   \n",
       "154015                          NaN               NaN   \n",
       "381755                          NaN               NaN   \n",
       "201694                          NaN               NaN   \n",
       "\n",
       "        excess_mortality_cumulative_per_million  \n",
       "176991                                      NaN  \n",
       "226861                                      NaN  \n",
       "291172                                      NaN  \n",
       "125540                                      NaN  \n",
       "405854                                      NaN  \n",
       "4250                                        NaN  \n",
       "414682                                      NaN  \n",
       "154015                                      NaN  \n",
       "381755                                      NaN  \n",
       "201694                                      NaN  \n",
       "\n",
       "[10 rows x 67 columns]"
      ]
     },
     "execution_count": 7,
     "metadata": {},
     "output_type": "execute_result"
    }
   ],
   "source": [
    "#overview df1\n",
    "\n",
    "covid_df.sample(10)"
   ]
  },
  {
   "cell_type": "code",
   "execution_count": 8,
   "id": "da3027cb-3703-47c1-97e9-1dd1eaca9805",
   "metadata": {},
   "outputs": [
    {
     "name": "stdout",
     "output_type": "stream",
     "text": [
      "iso_code                                        0\n",
      "continent                                   26525\n",
      "location                                        0\n",
      "date                                            0\n",
      "total_cases                                 17631\n",
      "                                            ...  \n",
      "population                                      0\n",
      "excess_mortality_cumulative_absolute       416024\n",
      "excess_mortality_cumulative                416024\n",
      "excess_mortality                           416024\n",
      "excess_mortality_cumulative_per_million    416024\n",
      "Length: 67, dtype: int64\n"
     ]
    }
   ],
   "source": [
    "# controllo dati nulli\n",
    "print(covid_df.isna().sum())"
   ]
  },
  {
   "cell_type": "code",
   "execution_count": 9,
   "id": "1fc5528d-722b-42fe-b2f1-7ca942cd010c",
   "metadata": {},
   "outputs": [
    {
     "name": "stdout",
     "output_type": "stream",
     "text": [
      "Righe duplicate: 0\n"
     ]
    }
   ],
   "source": [
    "#controllo duplicati\n",
    "\n",
    "print(f\"Righe duplicate: {covid_df.duplicated().sum()}\")"
   ]
  },
  {
   "cell_type": "markdown",
   "id": "c754baa9-421d-4a02-9425-d75522e6b6f5",
   "metadata": {},
   "source": [
    "# Esercizio 2"
   ]
  },
  {
   "cell_type": "markdown",
   "id": "e648cca1-160a-4614-9909-1b93d12f66ac",
   "metadata": {},
   "source": [
    "## 2a \n",
    "Si chiede di trovare, per ogni continente il numero di casi fin dall'inizio della pandemia"
   ]
  },
  {
   "cell_type": "code",
   "execution_count": 12,
   "id": "d6edb9ca-5baa-4281-8b3b-e94ef3c0e80b",
   "metadata": {},
   "outputs": [],
   "source": [
    "df_pulito=covid_df.dropna(subset=[\"continent\", \"location\", \"total_cases\"])"
   ]
  },
  {
   "cell_type": "code",
   "execution_count": 13,
   "id": "66c5b542-3bbe-436d-8648-48fd203c1407",
   "metadata": {},
   "outputs": [
    {
     "name": "stdout",
     "output_type": "stream",
     "text": [
      "continent      location    \n",
      "Africa         Algeria          272139.0\n",
      "               Angola           107481.0\n",
      "               Benin             28036.0\n",
      "               Botswana         330696.0\n",
      "               Burkina Faso      22139.0\n",
      "                                 ...    \n",
      "South America  Paraguay         735759.0\n",
      "               Peru            4526977.0\n",
      "               Suriname          82501.0\n",
      "               Uruguay         1041346.0\n",
      "               Venezuela        552695.0\n",
      "Name: total_cases, Length: 234, dtype: float64\n"
     ]
    }
   ],
   "source": [
    "max_casi_per_location = df_pulito.groupby(['continent', 'location'])['total_cases'].max()\n",
    "print(max_casi_per_location)"
   ]
  },
  {
   "cell_type": "code",
   "execution_count": 14,
   "id": "a76b63f8-51cb-48de-855a-851647180365",
   "metadata": {},
   "outputs": [
    {
     "name": "stdout",
     "output_type": "stream",
     "text": [
      "continent\n",
      "Africa            13145540.0\n",
      "Asia             301532347.0\n",
      "Europe           252916868.0\n",
      "North America    124492666.0\n",
      "Oceania           15003352.0\n",
      "South America     68809418.0\n",
      "Name: total_cases, dtype: float64\n"
     ]
    }
   ],
   "source": [
    "\n",
    "casi_totali_per_continente = max_casi_per_location.groupby(\"continent\").sum()\n",
    "print(casi_totali_per_continente)"
   ]
  },
  {
   "cell_type": "markdown",
   "id": "b6833081-2270-481a-8e6f-5e9b5ffd2d22",
   "metadata": {},
   "source": [
    "# 2b\n",
    "Si chiede di trovare, per ogni continente la percentuale rispetto al totale mondiale del numero di casi"
   ]
  },
  {
   "cell_type": "code",
   "execution_count": 16,
   "id": "89b04301-080a-4973-a596-bab39e1f6f2d",
   "metadata": {},
   "outputs": [
    {
     "name": "stdout",
     "output_type": "stream",
     "text": [
      "775900191.0\n"
     ]
    }
   ],
   "source": [
    "# Calcolo del totale mondiale\n",
    "totale_mondiale = casi_totali_per_continente.sum()\n",
    "print(totale_mondiale)"
   ]
  },
  {
   "cell_type": "code",
   "execution_count": 17,
   "id": "76423e83-e3b0-4237-abd4-72751deb5584",
   "metadata": {},
   "outputs": [
    {
     "name": "stdout",
     "output_type": "stream",
     "text": [
      "continent\n",
      "Africa            1.694231\n",
      "Asia             38.862260\n",
      "Europe           32.596572\n",
      "North America    16.044933\n",
      "Oceania           1.933670\n",
      "South America     8.868334\n",
      "Name: total_cases, dtype: float64\n"
     ]
    }
   ],
   "source": [
    "# Calcolo della percentuale per continente\n",
    "percentuale_per_continente = (casi_totali_per_continente / totale_mondiale) * 100\n",
    "\n",
    "print(percentuale_per_continente)"
   ]
  },
  {
   "cell_type": "markdown",
   "id": "47fdfae6-39f1-42ee-995b-eb330405b4be",
   "metadata": {},
   "source": [
    "## Esercizio 3"
   ]
  },
  {
   "cell_type": "markdown",
   "id": "2e31d67a-166e-4715-8be7-e74d35409f67",
   "metadata": {},
   "source": [
    "## 3a \n",
    "Selezionare i dati relativi all'Italia nel 2022 e mostrare con dei grafici adeguati l'evoluzione del casi totali dall'inizio alla fine dell'anno"
   ]
  },
  {
   "cell_type": "code",
   "execution_count": 20,
   "id": "cdd1e34d-0e9f-4fd3-b976-0234099810a6",
   "metadata": {
    "scrolled": true
   },
   "outputs": [
    {
     "name": "stdout",
     "output_type": "stream",
     "text": [
      "       iso_code continent location       date  total_cases  new_cases  \\\n",
      "186002      ITA    Europe    Italy 2022-01-01    5622431.0        0.0   \n",
      "186003      ITA    Europe    Italy 2022-01-02    6267035.0   644604.0   \n",
      "186004      ITA    Europe    Italy 2022-01-03    6267035.0        0.0   \n",
      "186005      ITA    Europe    Italy 2022-01-04    6267035.0        0.0   \n",
      "186006      ITA    Europe    Italy 2022-01-05    6267035.0        0.0   \n",
      "\n",
      "        new_cases_smoothed  total_deaths  new_deaths  new_deaths_smoothed  \\\n",
      "186002           36797.000      136530.0         0.0              140.857   \n",
      "186003           92086.286      137513.0       983.0              140.429   \n",
      "186004           92086.286      137513.0         0.0              140.429   \n",
      "186005           92086.286      137513.0         0.0              140.429   \n",
      "186006           92086.286      137513.0         0.0              140.429   \n",
      "\n",
      "        ...  male_smokers  handwashing_facilities  hospital_beds_per_thousand  \\\n",
      "186002  ...          27.8                     NaN                        3.18   \n",
      "186003  ...          27.8                     NaN                        3.18   \n",
      "186004  ...          27.8                     NaN                        3.18   \n",
      "186005  ...          27.8                     NaN                        3.18   \n",
      "186006  ...          27.8                     NaN                        3.18   \n",
      "\n",
      "        life_expectancy  human_development_index  population  \\\n",
      "186002            83.51                    0.892    59037472   \n",
      "186003            83.51                    0.892    59037472   \n",
      "186004            83.51                    0.892    59037472   \n",
      "186005            83.51                    0.892    59037472   \n",
      "186006            83.51                    0.892    59037472   \n",
      "\n",
      "        excess_mortality_cumulative_absolute  excess_mortality_cumulative  \\\n",
      "186002                                   NaN                          NaN   \n",
      "186003                              168226.3                        12.99   \n",
      "186004                                   NaN                          NaN   \n",
      "186005                                   NaN                          NaN   \n",
      "186006                                   NaN                          NaN   \n",
      "\n",
      "        excess_mortality  excess_mortality_cumulative_per_million  \n",
      "186002               NaN                                      NaN  \n",
      "186003              8.06                                2849.4834  \n",
      "186004               NaN                                      NaN  \n",
      "186005               NaN                                      NaN  \n",
      "186006               NaN                                      NaN  \n",
      "\n",
      "[5 rows x 67 columns]\n"
     ]
    },
    {
     "name": "stderr",
     "output_type": "stream",
     "text": [
      "C:\\Users\\manue\\AppData\\Local\\Temp\\ipykernel_19240\\402582148.py:2: SettingWithCopyWarning: \n",
      "A value is trying to be set on a copy of a slice from a DataFrame.\n",
      "Try using .loc[row_indexer,col_indexer] = value instead\n",
      "\n",
      "See the caveats in the documentation: https://pandas.pydata.org/pandas-docs/stable/user_guide/indexing.html#returning-a-view-versus-a-copy\n",
      "  df_pulito['date'] = pd.to_datetime(df_pulito['date'])\n"
     ]
    }
   ],
   "source": [
    "\n",
    "# Conversione della colonna 'date' in formato datetime\n",
    "df_pulito['date'] = pd.to_datetime(df_pulito['date'])\n",
    "\n",
    "# Filtro sui dati per l'Italia nel 2022\n",
    "italia_2022 = df_pulito.loc[(df_pulito['location'] == 'Italy') & (df_pulito['date'].dt.year == 2022)]\n",
    "\n",
    "# Verifica del filtraggio (mostra le prime righe)\n",
    "print(italia_2022.head())"
   ]
  },
  {
   "cell_type": "code",
   "execution_count": 21,
   "id": "8a53f00e-4687-455b-aae2-4f511d0a601f",
   "metadata": {},
   "outputs": [],
   "source": [
    "import seaborn as sns\n"
   ]
  },
  {
   "cell_type": "code",
   "execution_count": 22,
   "id": "201940ed-8496-4e57-892f-c562978a2643",
   "metadata": {},
   "outputs": [
    {
     "data": {
      "image/png": "[encoded data removed]",
      "text/plain": [
       "<Figure size 1000x600 with 1 Axes>"
      ]
     },
     "metadata": {},
     "output_type": "display_data"
    }
   ],
   "source": [
    "sns.set(style=\"whitegrid\")\n",
    "Evoluzione_casi_totali_Italia_2022 = sns.lineplot(data=italia_2022, x='date', y='total_cases')\n",
    "\n",
    "# Aggiunta di titolo e etichette\n",
    "Evoluzione_casi_totali_Italia_2022.set_title(\"Evoluzione dei casi totali in Italia nel 2022\", fontsize=14)\n",
    "Evoluzione_casi_totali_Italia_2022.set_xlabel(\"Data\", fontsize=12)\n",
    "Evoluzione_casi_totali_Italia_2022.set_ylabel(\"Nuovi Casi\", fontsize=12)\n",
    "\n",
    "# Mostra il grafico\n",
    "Evoluzione_casi_totali_Italia_2022.figure.set_size_inches(10, 6)"
   ]
  },
  {
   "cell_type": "markdown",
   "id": "bf0ba548-af5d-4986-a0ae-65895b570641",
   "metadata": {},
   "source": [
    "## 3b\n",
    "\n",
    "selezionare i dati relativi all'Italia nel 2022 e mostrare con dei grafici adeguati il numero di nuovi casi rispetto alla data"
   ]
  },
  {
   "cell_type": "code",
   "execution_count": 59,
   "id": "1f615f22-b2c6-4a17-8c9a-0dee860512b2",
   "metadata": {
    "scrolled": true
   },
   "outputs": [
    {
     "data": {
      "image/png": "[encoded data removed]",
      "text/plain": [
       "<Figure size 1500x600 with 1 Axes>"
      ]
     },
     "metadata": {},
     "output_type": "display_data"
    }
   ],
   "source": [
    "#ES 3b\n",
    "# sns.lineplot(x=italia_2022['date'], y=italia_2022['new_cases'], color='red\n",
    "\n",
    "plot = sns.lineplot(data=italia_2022, x='date', y='new_cases', color=\"red\")\n",
    "\n",
    "# Aggiunta di titolo e etichette\n",
    "plot.set_title(\"Numero di Nuovi Casi in Italia nel 2022\", fontsize=14)\n",
    "plot.set_xlabel(\"Data\", fontsize=12)\n",
    "plot.set_ylabel(\"Nuovi Casi\", fontsize=12)\n",
    "\n",
    "# Mostra il grafico\n",
    "plot.figure.set_size_inches(15, 6)\n",
    "                    "
   ]
  },
  {
   "cell_type": "markdown",
   "id": "cf9a2927-23dc-4ade-99ed-3d1874e45dcf",
   "metadata": {},
   "source": [
    "## 3k\n",
    "Poiché i nuovi casi vengono registrati settimanalmente, filtrare via i dati che non hanno misurazioni"
   ]
  },
  {
   "cell_type": "code",
   "execution_count": 26,
   "id": "3653389e-5b4b-4756-b311-71377906e224",
   "metadata": {},
   "outputs": [
    {
     "name": "stdout",
     "output_type": "stream",
     "text": [
      "Giorni con valori NaN nei nuovi casi: 0\n",
      "Empty DataFrame\n",
      "Columns: [date, new_cases]\n",
      "Index: []\n"
     ]
    }
   ],
   "source": [
    "#non ho capito bene la richiesta. Procedo quindi a visualizzare eventuli nulli espiciti\n",
    "\n",
    "# Filtriamo i giorni con valori NaN nella colonna 'new_cases'\n",
    "italia_2022_na = italia_2022[italia_2022['new_cases'].isna()]\n",
    "\n",
    "print(f\"Giorni con valori NaN nei nuovi casi: {italia_2022_na.shape[0]}\")\n",
    "\n",
    "print(italia_2022_na[['date', 'new_cases']])"
   ]
  },
  {
   "cell_type": "code",
   "execution_count": 27,
   "id": "ac2d16c0-6b1f-42f1-9cb7-b4cbdacf774e",
   "metadata": {},
   "outputs": [
    {
     "name": "stdout",
     "output_type": "stream",
     "text": [
      "Giorni con zero nuovi casi: 313\n",
      "             date  new_cases\n",
      "186002 2022-01-01        0.0\n",
      "186004 2022-01-03        0.0\n",
      "186005 2022-01-04        0.0\n",
      "186006 2022-01-05        0.0\n",
      "186007 2022-01-06        0.0\n",
      "...           ...        ...\n",
      "186362 2022-12-27        0.0\n",
      "186363 2022-12-28        0.0\n",
      "186364 2022-12-29        0.0\n",
      "186365 2022-12-30        0.0\n",
      "186366 2022-12-31        0.0\n",
      "\n",
      "[313 rows x 2 columns]\n"
     ]
    }
   ],
   "source": [
    "#controllo se ci sono valori 0\n",
    "\n",
    "# Filtriamo i giorni con zero nei nuovi casi\n",
    "italia_2022_zero = italia_2022[italia_2022['new_cases'] == 0]\n",
    "\n",
    "# Controllo e visualizzazione dei giorni con zero\n",
    "print(f\"Giorni con zero nuovi casi: {italia_2022_zero.shape[0]}\")\n",
    "\n",
    "print(italia_2022_zero[['date', 'new_cases']])\n"
   ]
  },
  {
   "cell_type": "code",
   "execution_count": 61,
   "id": "051b0fb8-0d97-47b8-9866-c05147205b94",
   "metadata": {},
   "outputs": [
    {
     "name": "stderr",
     "output_type": "stream",
     "text": [
      "C:\\Users\\manue\\AppData\\Local\\Temp\\ipykernel_19240\\285228684.py:1: SettingWithCopyWarning: \n",
      "A value is trying to be set on a copy of a slice from a DataFrame.\n",
      "Try using .loc[row_indexer,col_indexer] = value instead\n",
      "\n",
      "See the caveats in the documentation: https://pandas.pydata.org/pandas-docs/stable/user_guide/indexing.html#returning-a-view-versus-a-copy\n",
      "  italia_2022_zero['month'] = italia_2022_zero['date'].dt.month\n",
      "C:\\Users\\manue\\AppData\\Local\\Temp\\ipykernel_19240\\285228684.py:3: FutureWarning: \n",
      "\n",
      "Passing `palette` without assigning `hue` is deprecated and will be removed in v0.14.0. Assign the `x` variable to `hue` and set `legend=False` for the same effect.\n",
      "\n",
      "  sns.countplot(x=italia_2022_zero['month'], palette=\"Blues\")\n"
     ]
    },
    {
     "name": "stdout",
     "output_type": "stream",
     "text": [
      "Numero totale di giorni con nuovi casi pari a zero: 313\n"
     ]
    },
    {
     "data": {
      "image/png": "[encoded data removed]",
      "text/plain": [
       "<Figure size 640x480 with 1 Axes>"
      ]
     },
     "metadata": {},
     "output_type": "display_data"
    }
   ],
   "source": [
    "italia_2022_zero['month'] = italia_2022_zero['date'].dt.month\n",
    "\n",
    "sns.countplot(x=italia_2022_zero['month'], palette=\"Blues\")\n",
    "\n",
    "numero_totale_zero = (italia_2022_zero['new_cases'] == 0).sum()\n",
    "print(f\"Numero totale di giorni con nuovi casi pari a zero: {numero_totale_zero}\")"
   ]
  },
  {
   "cell_type": "markdown",
   "id": "40091be5-6e11-4ab8-98a4-f54cc90201ef",
   "metadata": {},
   "source": [
    "# Esercizio 4\n",
    "Riguardo le nazioni di Italia, Germania e Francia mostrare in un boxplot la differenza tra queste nazioni riguardo il numero di pazienti in terapia  intensiva (Intensive Care Unit, ICU) da maggio 2022 (incluso) ad aprile 2023 (incluso)\n"
   ]
  },
  {
   "cell_type": "code",
   "execution_count": 40,
   "id": "f35cdff4-fd08-4655-b545-c179957529f9",
   "metadata": {},
   "outputs": [
    {
     "name": "stderr",
     "output_type": "stream",
     "text": [
      "C:\\Users\\manue\\AppData\\Local\\Temp\\ipykernel_19240\\1383368406.py:4: SettingWithCopyWarning: \n",
      "A value is trying to be set on a copy of a slice from a DataFrame.\n",
      "Try using .loc[row_indexer,col_indexer] = value instead\n",
      "\n",
      "See the caveats in the documentation: https://pandas.pydata.org/pandas-docs/stable/user_guide/indexing.html#returning-a-view-versus-a-copy\n",
      "  df_ita_ger_fra[\"date\"] = pd.to_datetime(df_ita_ger_fra[\"date\"])\n"
     ]
    },
    {
     "data": {
      "text/plain": [
       "<Axes: xlabel='location', ylabel='icu_patients'>"
      ]
     },
     "execution_count": 40,
     "metadata": {},
     "output_type": "execute_result"
    },
    {
     "data": {
      "image/png": "[encoded data removed]",
      "text/plain": [
       "<Figure size 640x480 with 1 Axes>"
      ]
     },
     "metadata": {},
     "output_type": "display_data"
    }
   ],
   "source": [
    "# Filtro i dati per Italia, Germania e Francia\n",
    "df_ita_ger_fra = df_pulito[df_pulito['location'].isin(['Italy', 'Germany', 'France'])]\n",
    "\n",
    "df_ita_ger_fra[\"date\"] = pd.to_datetime(df_ita_ger_fra[\"date\"])\n",
    "\n",
    "# Filtro sui dati dal 1 maggio 2022 al 30 aprile 2023\n",
    "df_range_time = df_ita_ger_fra[(df_ita_ger_fra['date'] >= '2022-05-01') & (df_ita_ger_fra['date'] <= '2023-04-30')]\n",
    "\n",
    "# boxplot terapia intensiva\n",
    "sns.boxplot(x='location', y='icu_patients', data=df_range_time, \n",
    "            hue='location', palette=['red', 'green', 'blue']) "
   ]
  },
  {
   "cell_type": "markdown",
   "id": "ff33dd70-d2f0-4311-ac0f-44354ab66421",
   "metadata": {},
   "source": [
    "## a. Scrivere un breve commento a riguardo i pazienti in terapia intensiva\n",
    "\n",
    "Si può osservare che l'Italia ha registrato un numero nettamente inferiore di ricoveri in terapia intensiva rispetto a Francia e Germania nel periodo analizzato.\n",
    "La Germania, pur avendo avuto molti più casi totali, presenta una distribuzione simile alla Francia in termini di valori medi."
   ]
  },
  {
   "cell_type": "markdown",
   "id": "af7f7f66-fd17-4bf8-8fd7-0033b5f7cbf1",
   "metadata": {},
   "source": [
    "## Esercizio 5"
   ]
  },
  {
   "cell_type": "markdown",
   "id": "8856a215-1bbc-4d21-b25f-e0cec64b36c0",
   "metadata": {},
   "source": [
    "Es 5a Riguardo le nazioni di Italia, Germania, Francia e Spagna in tutto il 2023 mostrare la somma dei pazienti ospitalizzati per ognuna"
   ]
  },
  {
   "cell_type": "code",
   "execution_count": 45,
   "id": "c4efee84-86a6-4718-b473-4d6b99bada54",
   "metadata": {},
   "outputs": [
    {
     "name": "stdout",
     "output_type": "stream",
     "text": [
      "italy_hospitalized 1175272.0\n",
      "germany_hospitalized 0.0\n",
      "france_hospitalized 1382574.0\n",
      "spain_hospitalized 354602.0\n"
     ]
    }
   ],
   "source": [
    "# Filtro i dati per l'anno 2023\n",
    "df_2023 = df_pulito[(df_pulito['date'] >= '2023-01-01') & (df_pulito['date'] <= '2023-12-31')]\n",
    "\n",
    "# Ospedalizzati 2023 divisi per Stato\n",
    "italy_hospitalized = df_2023[df_2023['location'] == 'Italy']['hosp_patients'].sum()\n",
    "germany_hospitalized = df_2023[df_2023['location'] == 'Germany']['hosp_patients'].sum()\n",
    "france_hospitalized = df_2023[df_2023['location'] == 'France']['hosp_patients'].sum()\n",
    "spain_hospitalized = df_2023[df_2023['location'] == 'Spain']['hosp_patients'].sum()\n",
    "\n",
    "print('italy_hospitalized',italy_hospitalized)\n",
    "print('germany_hospitalized',germany_hospitalized)\n",
    "print('france_hospitalized',france_hospitalized)\n",
    "print('spain_hospitalized',spain_hospitalized)"
   ]
  },
  {
   "cell_type": "code",
   "execution_count": 47,
   "id": "3ebdbecb-c128-444e-a332-608000e8efe5",
   "metadata": {},
   "outputs": [
    {
     "name": "stdout",
     "output_type": "stream",
     "text": [
      "365\n",
      "0\n"
     ]
    }
   ],
   "source": [
    "#controllo sul valore 0 della Germania\n",
    "\n",
    "germany_data = df_2023[df_2023['location'] == 'Germany']\n",
    "print(germany_data['hosp_patients'].isna().sum())  # Conta i valori nulli\n",
    "print(germany_data['hosp_patients'].notna().sum())  # Conta i valori non nulli"
   ]
  },
  {
   "cell_type": "code",
   "execution_count": 49,
   "id": "fe2d75b2-1f89-4caa-815e-a35ca3134566",
   "metadata": {},
   "outputs": [
    {
     "name": "stdout",
     "output_type": "stream",
     "text": [
      "(365, 67)\n"
     ]
    }
   ],
   "source": [
    "print(germany_data.shape)"
   ]
  },
  {
   "cell_type": "code",
   "execution_count": 51,
   "id": "b8722d1f-9550-43b9-a9b7-38aced72adbb",
   "metadata": {},
   "outputs": [
    {
     "name": "stdout",
     "output_type": "stream",
     "text": [
      "count    0.0\n",
      "mean     NaN\n",
      "std      NaN\n",
      "min      NaN\n",
      "25%      NaN\n",
      "50%      NaN\n",
      "75%      NaN\n",
      "max      NaN\n",
      "Name: hosp_patients, dtype: float64\n"
     ]
    }
   ],
   "source": [
    "print(germany_data['hosp_patients'].describe())  # Statistiche dei dati per la Germania"
   ]
  },
  {
   "cell_type": "markdown",
   "id": "d9098420-dd7f-4c76-88e1-67feab10ff77",
   "metadata": {},
   "source": [
    "## Esercizio 5b\n",
    "Controllo per valori nulli nella colonna 'hosp_patients'"
   ]
  },
  {
   "cell_type": "code",
   "execution_count": 54,
   "id": "dc1036ca-de86-43c5-a1c7-2b2d45402c51",
   "metadata": {},
   "outputs": [
    {
     "name": "stdout",
     "output_type": "stream",
     "text": [
      "Dati nulli nella colonna 'hosp_patients': 80401\n"
     ]
    }
   ],
   "source": [
    "null_hosp_patients = df_2023['hosp_patients'].isna().sum()\n",
    "print(f\"Dati nulli nella colonna 'hosp_patients': {null_hosp_patients}\")\n"
   ]
  },
  {
   "cell_type": "markdown",
   "id": "8666f099-4430-416d-9736-d616447d891b",
   "metadata": {},
   "source": [
    "# Commento sui dati nulli per la Germania\n",
    "I dati relativi alla Germania per il 2023 nella colonna *hosp_patients* risultano interamente nulli, come indicato dal conteggio dei valori nulli pari a 365 e l'assenza di valori validi (notna() pari a 0). Questo rende impossibile utilizzare tecniche di imputazione, come la sostituzione con la media o la mediana.\n",
    "\n",
    "# Impossibilità di sostituzione\n",
    "Dato che i ricoveri ospedalieri legati al COVID-19 sono influenzati da variabili come:\n",
    "- Politiche sanitarie locali,\n",
    "- Impatti delle varianti del virus,\n",
    "- Specificità temporali, \n",
    "\n",
    "L'utilizzo di dati di altri paesi o anni sarebbe ingiustificato e comprometterebbe l'accuratezza delle analisi. \n",
    "\n",
    "**Conclusione**:  \n",
    "L'ipotesi migliore sarebbe escludere la Germania dall'analisi, se si considera che i dati mancanti compromettano l'accuratezza delle conclusioni.\n"
   ]
  },
  {
   "cell_type": "code",
   "execution_count": null,
   "id": "32878031-aa59-414c-af66-f7133cb7f53a",
   "metadata": {},
   "outputs": [],
   "source": []
  }
 ],
 "metadata": {
  "kernelspec": {
   "display_name": "Python 3 (ipykernel)",
   "language": "python",
   "name": "python3"
  },
  "language_info": {
   "codemirror_mode": {
    "name": "ipython",
    "version": 3
   },
   "file_extension": ".py",
   "mimetype": "text/x-python",
   "name": "python",
   "nbconvert_exporter": "python",
   "pygments_lexer": "ipython3",
   "version": "3.12.7"
  }
 },
 "nbformat": 4,
 "nbformat_minor": 5
}
