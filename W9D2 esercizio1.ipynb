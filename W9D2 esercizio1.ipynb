{
 "cells": [
  {
   "cell_type": "code",
   "execution_count": 9,
   "id": "0a952085-8458-4b28-9c78-8d133b554acb",
   "metadata": {},
   "outputs": [],
   "source": [
    "studenti = 25"
   ]
  },
  {
   "cell_type": "code",
   "execution_count": 10,
   "id": "22eb291d-a9a1-4107-94f6-bdfa48d5ccb0",
   "metadata": {},
   "outputs": [
    {
     "name": "stdout",
     "output_type": "stream",
     "text": [
      "25\n"
     ]
    }
   ],
   "source": [
    "print(studenti)"
   ]
  },
  {
   "cell_type": "code",
   "execution_count": 11,
   "id": "b45c25d7-b36a-4319-a687-39cd8cc6a0de",
   "metadata": {},
   "outputs": [],
   "source": [
    "nuovi_studenti = 3"
   ]
  },
  {
   "cell_type": "code",
   "execution_count": 12,
   "id": "27be5d55-7e8e-4a11-8dcb-95f379280020",
   "metadata": {},
   "outputs": [
    {
     "name": "stdout",
     "output_type": "stream",
     "text": [
      "25\n"
     ]
    }
   ],
   "source": [
    "print(studenti)"
   ]
  },
  {
   "cell_type": "code",
   "execution_count": 13,
   "id": "e6a7a3ab-bf71-4a1f-b57a-202721ffc216",
   "metadata": {},
   "outputs": [],
   "source": [
    "studenti = studenti + nuovi_studenti "
   ]
  },
  {
   "cell_type": "code",
   "execution_count": 14,
   "id": "565e4330-0390-46ca-a8db-7999b2880c1d",
   "metadata": {},
   "outputs": [
    {
     "name": "stdout",
     "output_type": "stream",
     "text": [
      "28\n"
     ]
    }
   ],
   "source": [
    "print(studenti)"
   ]
  },
  {
   "cell_type": "code",
   "execution_count": 15,
   "id": "f1ff8e03-b71b-4af0-a67e-a4e8af5891b9",
   "metadata": {},
   "outputs": [],
   "source": [
    "# Creare una variabile che contiene la stringa \"Epicode\", quindi stamparla a video.\n",
    "\n",
    "epicode = 'Epicode'"
   ]
  },
  {
   "cell_type": "code",
   "execution_count": 16,
   "id": "6cdd2c40-aefa-42c6-ae32-beed5b142ca3",
   "metadata": {},
   "outputs": [
    {
     "name": "stdout",
     "output_type": "stream",
     "text": [
      "Epicode\n"
     ]
    }
   ],
   "source": [
    "print(epicode)"
   ]
  },
  {
   "cell_type": "code",
   "execution_count": 17,
   "id": "d3759eb1-4e26-47db-b120-3d65a890dd0d",
   "metadata": {},
   "outputs": [],
   "source": [
    "# Abbiamo la variabile: x = 10 Incrementarla di 2 e poi moltiplicarla per 3\n",
    "# metodo 1\n",
    "x = 10\n",
    "x = x + 2\n",
    "x= x * 3"
   ]
  },
  {
   "cell_type": "code",
   "execution_count": 18,
   "id": "2058a3aa-f595-4cb7-a53b-83da94daaf98",
   "metadata": {},
   "outputs": [
    {
     "name": "stdout",
     "output_type": "stream",
     "text": [
      "36\n"
     ]
    }
   ],
   "source": [
    "print(x)"
   ]
  },
  {
   "cell_type": "code",
   "execution_count": 19,
   "id": "d587a299-7a16-4b26-853d-7f3ee69a443f",
   "metadata": {},
   "outputs": [],
   "source": [
    "# metodo2\n",
    "x1 = 10\n",
    "x1 += 2\n",
    "x1 *= 3"
   ]
  },
  {
   "cell_type": "code",
   "execution_count": 20,
   "id": "c9859068-25fc-42df-97db-6ec4bb646785",
   "metadata": {},
   "outputs": [
    {
     "name": "stdout",
     "output_type": "stream",
     "text": [
      "36\n"
     ]
    }
   ],
   "source": [
    "print(x1)"
   ]
  },
  {
   "cell_type": "code",
   "execution_count": 21,
   "id": "0e06d436-93c9-445a-a79a-f7f4972472d3",
   "metadata": {},
   "outputs": [
    {
     "name": "stdout",
     "output_type": "stream",
     "text": [
      "36 36\n"
     ]
    }
   ],
   "source": [
    "print(x, x1)"
   ]
  },
  {
   "cell_type": "code",
   "execution_count": 22,
   "id": "0ac47070-5318-4055-a758-b85a3f577601",
   "metadata": {},
   "outputs": [],
   "source": [
    "# Verificare se il numero di caratteri è compreso tra 5 e 8\n",
    "str1 = \"Windows\" \n",
    "str2 = \"Excel\" \n",
    "str3 = \"Powerpoint\" \n",
    "str4 = \"Word\""
   ]
  },
  {
   "cell_type": "code",
   "execution_count": 23,
   "id": "24b515f4-a933-4702-a01b-b589b4e3f8bc",
   "metadata": {},
   "outputs": [
    {
     "name": "stdout",
     "output_type": "stream",
     "text": [
      "Windows Excel Powerpoint Word\n"
     ]
    }
   ],
   "source": [
    "print(str1, str2, str3, str4)"
   ]
  },
  {
   "cell_type": "code",
   "execution_count": 24,
   "id": "187da6b7-385d-449d-9b82-4a5a69d87f6a",
   "metadata": {},
   "outputs": [
    {
     "data": {
      "text/plain": [
       "7"
      ]
     },
     "execution_count": 24,
     "metadata": {},
     "output_type": "execute_result"
    }
   ],
   "source": [
    "len(str1)"
   ]
  },
  {
   "cell_type": "code",
   "execution_count": 25,
   "id": "56d834d9-f99e-40b2-8632-03abab59773a",
   "metadata": {},
   "outputs": [
    {
     "data": {
      "text/plain": [
       "5"
      ]
     },
     "execution_count": 25,
     "metadata": {},
     "output_type": "execute_result"
    }
   ],
   "source": [
    "len(str2)"
   ]
  },
  {
   "cell_type": "code",
   "execution_count": 26,
   "id": "a46402e4-7526-42df-a34d-4782f5846ea3",
   "metadata": {},
   "outputs": [
    {
     "data": {
      "text/plain": [
       "10"
      ]
     },
     "execution_count": 26,
     "metadata": {},
     "output_type": "execute_result"
    }
   ],
   "source": [
    "len(str3)"
   ]
  },
  {
   "cell_type": "code",
   "execution_count": 27,
   "id": "20dce0a3-2dae-4595-bcf8-41b04f5dfb38",
   "metadata": {},
   "outputs": [
    {
     "data": {
      "text/plain": [
       "4"
      ]
     },
     "execution_count": 27,
     "metadata": {},
     "output_type": "execute_result"
    }
   ],
   "source": [
    "len(str4)"
   ]
  },
  {
   "cell_type": "code",
   "execution_count": 28,
   "id": "6ac3dfbe-d94c-4f08-8402-a860ecfe14c4",
   "metadata": {},
   "outputs": [
    {
     "name": "stdout",
     "output_type": "stream",
     "text": [
      "Windows\n"
     ]
    }
   ],
   "source": [
    "if len(str1) > 5 and len(str1) < 8:\n",
    "    print(str1)\n",
    "else:\n",
    "    print('Non compreso')"
   ]
  },
  {
   "cell_type": "code",
   "execution_count": 29,
   "id": "3ac0ce77-0eb8-4427-a2ca-5218ceb7acbe",
   "metadata": {},
   "outputs": [
    {
     "name": "stdout",
     "output_type": "stream",
     "text": [
      "Non compreso\n"
     ]
    }
   ],
   "source": [
    "if len(str2) > 5 and len(str2) < 8:\n",
    "    print(str2)\n",
    "else:\n",
    "    print('Non compreso')"
   ]
  },
  {
   "cell_type": "code",
   "execution_count": 30,
   "id": "52a96853-5274-4311-88a0-5eb09cd8ec2a",
   "metadata": {},
   "outputs": [
    {
     "name": "stdout",
     "output_type": "stream",
     "text": [
      "Non compreso\n"
     ]
    }
   ],
   "source": [
    "if len(str3) > 5 and len(str3) < 8:\n",
    "    print(str3)\n",
    "else:\n",
    "    print('Non compreso')"
   ]
  },
  {
   "cell_type": "code",
   "execution_count": 31,
   "id": "281789e4-7582-4c9d-9af4-9e434424bad0",
   "metadata": {},
   "outputs": [
    {
     "name": "stdout",
     "output_type": "stream",
     "text": [
      "Non compreso\n"
     ]
    }
   ],
   "source": [
    "if len(str4) > 5 and len(str4) < 8:\n",
    "    print(str4)\n",
    "else:\n",
    "    print('Non compreso')"
   ]
  },
  {
   "cell_type": "code",
   "execution_count": 32,
   "id": "38f92238-f009-46c4-b869-d6f014f978d5",
   "metadata": {},
   "outputs": [
    {
     "name": "stdout",
     "output_type": "stream",
     "text": [
      "La stringa 'Windows' ha un numero di caratteri compreso tra 5 e 8.\n"
     ]
    }
   ],
   "source": [
    "# se invece bisognava includere anche gli estremi faremo:\n",
    "if 5 <= len(str1) <= 8:\n",
    "    print(f\"La stringa '{str1}' ha un numero di caratteri compreso tra 5 e 8.\")\n",
    "else:\n",
    "    print(f\"La stringa '{str1}' non ha un numero di caratteri compreso tra 5 e 8.\")"
   ]
  },
  {
   "cell_type": "code",
   "execution_count": 33,
   "id": "42a523b5-d3f7-4c52-8262-b1f9270e656e",
   "metadata": {},
   "outputs": [
    {
     "name": "stdout",
     "output_type": "stream",
     "text": [
      "La stringa 'Excel' ha un numero di caratteri compreso tra 5 e 8.\n"
     ]
    }
   ],
   "source": [
    "if 5 <= len(str2) <= 8:\n",
    "    print(f\"La stringa '{str2}' ha un numero di caratteri compreso tra 5 e 8.\")\n",
    "else:\n",
    "    print(f\"La stringa '{str2}' non ha un numero di caratteri compreso tra 5 e 8.\")"
   ]
  },
  {
   "cell_type": "code",
   "execution_count": 34,
   "id": "ee614676-8e2e-4e47-81c5-75b5c17aedcf",
   "metadata": {},
   "outputs": [
    {
     "name": "stdout",
     "output_type": "stream",
     "text": [
      "La stringa 'Powerpoint' non ha un numero di caratteri compreso tra 5 e 8.\n"
     ]
    }
   ],
   "source": [
    "if 5 <= len(str3) <= 8:\n",
    "    print(f\"La stringa '{str3}' ha un numero di caratteri compreso tra 5 e 8.\")\n",
    "else:\n",
    "    print(f\"La stringa '{str3}' non ha un numero di caratteri compreso tra 5 e 8.\")"
   ]
  },
  {
   "cell_type": "code",
   "execution_count": 35,
   "id": "fbb5ee67-8ae5-4a20-8e77-3c5316e6e927",
   "metadata": {},
   "outputs": [
    {
     "name": "stdout",
     "output_type": "stream",
     "text": [
      "La stringa 'Word' non ha un numero di caratteri compreso tra 5 e 8.\n"
     ]
    }
   ],
   "source": [
    "if 5 <= len(str4) <= 8:\n",
    "    print(f\"La stringa '{str4}' ha un numero di caratteri compreso tra 5 e 8.\")\n",
    "else:\n",
    "    print(f\"La stringa '{str4}' non ha un numero di caratteri compreso tra 5 e 8.\")"
   ]
  },
  {
   "cell_type": "code",
   "execution_count": 36,
   "id": "dc8151fc-b753-4cfb-80fe-40d55ea5e196",
   "metadata": {},
   "outputs": [],
   "source": [
    "# Calcolare e stampare a video quanti secondi ci sono in un anno non bisestile\n",
    "\n",
    "giorni_in_un_anno_non_bisestile = 365\n",
    "ore_in_un_giorno = 24\n",
    "minuti_in_un_ora = 60\n",
    "secondi_in_un_minuto = 60"
   ]
  },
  {
   "cell_type": "code",
   "execution_count": 37,
   "id": "223cb8d9-ee04-49cb-b56b-2a5b2ed7b437",
   "metadata": {},
   "outputs": [
    {
     "name": "stdout",
     "output_type": "stream",
     "text": [
      "31536000\n"
     ]
    }
   ],
   "source": [
    "secondi_in_un_anno = secondi_in_un_minuto * minuti_in_un_ora * ore_in_un_giorno * giorni_in_un_anno_non_bisestile\n",
    "print(secondi_in_un_anno)"
   ]
  },
  {
   "cell_type": "code",
   "execution_count": 38,
   "id": "32c0c372-68c7-46cc-894f-c346fc916e1b",
   "metadata": {},
   "outputs": [],
   "source": [
    "# esercizi sulle stringhe upper, lower\n",
    "\n",
    "my_string = \"I am studying Python\""
   ]
  },
  {
   "cell_type": "code",
   "execution_count": 39,
   "id": "9f8834ce-1636-4699-9cf9-32d1e77d5f39",
   "metadata": {},
   "outputs": [
    {
     "name": "stdout",
     "output_type": "stream",
     "text": [
      "I am studying Python\n"
     ]
    }
   ],
   "source": [
    "print(my_string)"
   ]
  },
  {
   "cell_type": "code",
   "execution_count": 40,
   "id": "de8e1b4e-71e1-496e-867a-a4d741c26d79",
   "metadata": {},
   "outputs": [
    {
     "data": {
      "text/plain": [
       "'I AM STUDYING PYTHON'"
      ]
     },
     "execution_count": 40,
     "metadata": {},
     "output_type": "execute_result"
    }
   ],
   "source": [
    "str.upper(my_string)"
   ]
  },
  {
   "cell_type": "code",
   "execution_count": 74,
   "id": "e138c95d-9352-4ac4-a353-202003a6a76c",
   "metadata": {},
   "outputs": [
    {
     "data": {
      "text/plain": [
       "'i am studying python'"
      ]
     },
     "execution_count": 74,
     "metadata": {},
     "output_type": "execute_result"
    }
   ],
   "source": [
    "str.lower(my_string)"
   ]
  },
  {
   "cell_type": "code",
   "execution_count": 78,
   "id": "55103da9-7569-489e-80f4-bafb489e702f",
   "metadata": {},
   "outputs": [
    {
     "data": {
      "text/plain": [
       "'I am studying a lot'"
      ]
     },
     "execution_count": 78,
     "metadata": {},
     "output_type": "execute_result"
    }
   ],
   "source": [
    "str.replace(my_string,\"Python\",\"a lot\")"
   ]
  },
  {
   "cell_type": "code",
   "execution_count": 80,
   "id": "cc358d40-eb9e-4825-b8e1-3d496172becb",
   "metadata": {},
   "outputs": [
    {
     "name": "stdout",
     "output_type": "stream",
     "text": [
      "Help on method_descriptor:\n",
      "\n",
      "strip(self, chars=None, /) unbound builtins.str method\n",
      "    Return a copy of the string with leading and trailing whitespace removed.\n",
      "\n",
      "    If chars is given and not None, remove characters in chars instead.\n",
      "\n"
     ]
    }
   ],
   "source": [
    "help(str.strip)"
   ]
  },
  {
   "cell_type": "code",
   "execution_count": 82,
   "id": "11feed84-cf8f-4f37-a3f2-fb67dfa4b5e2",
   "metadata": {},
   "outputs": [
    {
     "data": {
      "text/plain": [
       "'I am studying Python'"
      ]
     },
     "execution_count": 82,
     "metadata": {},
     "output_type": "execute_result"
    }
   ],
   "source": [
    "str.strip(my_string) # verifica se cambia qualcosa. Non cambia nulla perchè non ci sono spazi vuoti prima|dopo"
   ]
  },
  {
   "cell_type": "code",
   "execution_count": null,
   "id": "96c1db5f-98db-4457-a7fe-9e2e37bb37c0",
   "metadata": {},
   "outputs": [],
   "source": []
  }
 ],
 "metadata": {
  "kernelspec": {
   "display_name": "Python 3 (ipykernel)",
   "language": "python",
   "name": "python3"
  },
  "language_info": {
   "codemirror_mode": {
    "name": "ipython",
    "version": 3
   },
   "file_extension": ".py",
   "mimetype": "text/x-python",
   "name": "python",
   "nbconvert_exporter": "python",
   "pygments_lexer": "ipython3",
   "version": "3.12.7"
  }
 },
 "nbformat": 4,
 "nbformat_minor": 5
}
